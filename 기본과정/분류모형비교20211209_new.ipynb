{
  "nbformat": 4,
  "nbformat_minor": 0,
  "metadata": {
    "colab": {
      "name": "분류모형비교20211209.ipynb",
      "provenance": [],
      "collapsed_sections": []
    },
    "kernelspec": {
      "name": "python3",
      "display_name": "Python 3"
    },
    "language_info": {
      "name": "python"
    }
  },
  "cells": [
    {
      "cell_type": "code",
      "execution_count": 15,
      "metadata": {
        "colab": {
          "base_uri": "https://localhost:8080/"
        },
        "id": "cDSQRZtpVlrk",
        "outputId": "5100c66d-cbaa-4a19-bb34-6c7eb5a52033"
      },
      "outputs": [
        {
          "output_type": "stream",
          "name": "stdout",
          "text": [
            "0.9097429766885834\n",
            "0.9001793185893604\n",
            "0.9127316198445905\n",
            "0.8989838613269575\n",
            "0.9199043634190077\n",
            "0.9205020920502092\n"
          ]
        }
      ],
      "source": [
        "#sp500_tm.csv를 읽으세요\n",
        "#Direction(4번째 변수)가 target, 나머지가 X변수로 해주세요.\n",
        "#나머지는 동일하게 해주세요.\n",
        "import pandas as pd\n",
        "import numpy as np\n",
        "from sklearn import preprocessing\n",
        "from sklearn.model_selection import train_test_split\n",
        "\n",
        "from sklearn.naive_bayes import MultinomialNB\n",
        "from sklearn import tree\n",
        "from sklearn.ensemble import RandomForestClassifier\n",
        "from sklearn import neighbors\n",
        "from sklearn.svm import SVC\n",
        "from sklearn.neural_network import MLPClassifier\n",
        "\n",
        "csv_data = pd.read_csv(\"sms.csv\")\n",
        "csv_data = csv_data.values\n",
        "csv_data.shape\n",
        "X = csv_data[:, 1:221 ]\n",
        "y = csv_data[:, 0 ]\n",
        "\n",
        "#Partitioning\n",
        "X_train, X_test, y_train, y_test = train_test_split( X, y, test_size=0.3, random_state=42 )\n",
        "scaler = preprocessing.MinMaxScaler()\n",
        "X_train = scaler.fit_transform( X_train)\n",
        "X_test  = scaler.fit_transform( X_test  )\n",
        "\n",
        "#KNN\n",
        "knn = neighbors.KNeighborsClassifier().fit(X_train, y_train)\n",
        "predicted = knn.predict(X_test)\n",
        "print(np.mean( predicted == y_test ))\n",
        "\n",
        "#SVM\n",
        "clf = SVC().fit(X_train, y_train)\n",
        "predicted = clf.predict(X_test)\n",
        "print(np.mean( predicted == y_test ))\n",
        "\n",
        "#NB\n",
        "clf = MultinomialNB().fit(X_train, y_train)\n",
        "predicted = clf.predict(X_test)\n",
        "print(np.mean(predicted == y_test))\n",
        "\n",
        "#DT\n",
        "dt1 = tree.DecisionTreeClassifier().fit(X_train, y_train)\n",
        "pred = dt1.predict( X_test)\n",
        "print(np.mean( pred == y_test ))\n",
        "\n",
        "#RF\n",
        "rf = RandomForestClassifier(n_estimators=100, oob_score=True, random_state=123456).fit(X_train, y_train)\n",
        "predicted = rf.predict(X_test)\n",
        "print(np.mean( predicted == y_test ))\n",
        "\n",
        "#ANN\n",
        "mlp = MLPClassifier(hidden_layer_sizes=(30,30,30))\n",
        "mlp.fit(X_train,y_train)\n",
        "predictions = mlp.predict(X_test)\n",
        "\n",
        "mlp.coefs_\n",
        "mlp.coefs_[0]\n",
        "mlp.intercepts_[0]\n",
        "\n",
        "print(np.mean( predictions == y_test ))"
      ]
    },
    {
      "cell_type": "code",
      "source": [
        ""
      ],
      "metadata": {
        "id": "bg46HP4ElaTp"
      },
      "execution_count": null,
      "outputs": []
    }
  ]
}