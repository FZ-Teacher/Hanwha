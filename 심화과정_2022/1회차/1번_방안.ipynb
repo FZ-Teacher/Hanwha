{
 "cells": [
  {
   "cell_type": "code",
   "execution_count": 7,
   "id": "7dbd0f58",
   "metadata": {},
   "outputs": [
    {
     "data": {
      "text/plain": [
       "(1567, 49)"
      ]
     },
     "execution_count": 7,
     "metadata": {},
     "output_type": "execute_result"
    }
   ],
   "source": [
    "import pandas as pd\n",
    "import numpy as np\n",
    "csv_data = pd.read_csv(\"data.csv\")\n",
    "csv_data = csv_data.values\n",
    "csv_data.shape"
   ]
  },
  {
   "cell_type": "code",
   "execution_count": 9,
   "id": "081c092e",
   "metadata": {},
   "outputs": [],
   "source": [
    "from sklearn.model_selection import train_test_split\n",
    "from sklearn import preprocessing\n",
    "\n",
    "X = csv_data[:, 1:48 ]\n",
    "y  = csv_data[:, 48 ]\n",
    "\n",
    "#Partitioning\n",
    "X_train, X_test, y_train, y_test = train_test_split( X, y, test_size=0.3, random_state=42 )\n",
    "scaler = preprocessing.MinMaxScaler()\n",
    "X_train = scaler.fit_transform( X_train)\n",
    "X_test  = scaler.fit_transform( X_test  )\n"
   ]
  },
  {
   "cell_type": "code",
   "execution_count": 13,
   "id": "d083731c",
   "metadata": {},
   "outputs": [
    {
     "name": "stdout",
     "output_type": "stream",
     "text": [
      "NB 0.9320594479830149\n",
      "DT 0.5987261146496815\n",
      "RF 0.9278131634819533\n",
      "KNN 0.9320594479830149\n",
      "SVM 0.9341825902335457\n",
      "ANN 0.9341825902335457\n"
     ]
    },
    {
     "name": "stderr",
     "output_type": "stream",
     "text": [
      "C:\\Users\\user\\anaconda3\\lib\\site-packages\\sklearn\\neural_network\\_multilayer_perceptron.py:614: ConvergenceWarning: Stochastic Optimizer: Maximum iterations (200) reached and the optimization hasn't converged yet.\n",
      "  warnings.warn(\n"
     ]
    }
   ],
   "source": [
    "from sklearn.naive_bayes import MultinomialNB\n",
    "from sklearn import tree\n",
    "from sklearn.ensemble import RandomForestClassifier\n",
    "from sklearn import neighbors\n",
    "from sklearn.svm import SVC\n",
    "from sklearn.neural_network import MLPClassifier\n",
    "\n",
    "#NB\n",
    "clf = MultinomialNB().fit(X_train, y_train)\n",
    "predicted = clf.predict(X_test)\n",
    "print('NB', np.mean(predicted == y_test))\n",
    "\n",
    "#DT\n",
    "dt1 = tree.DecisionTreeClassifier().fit(X_train, y_train)\n",
    "pred = dt1.predict( X_test)\n",
    "print('DT', np.mean( pred == y_test ))\n",
    "\n",
    "#RF\n",
    "rf = RandomForestClassifier(n_estimators=300, random_state=42).fit(X_train, y_train)\n",
    "predicted = rf.predict(X_test)\n",
    "print('RF', np.mean( predicted == y_test ))\n",
    "\n",
    "#KNN\n",
    "knn = neighbors.KNeighborsClassifier().fit(X_train, y_train)\n",
    "predicted = knn.predict(X_test)\n",
    "print('KNN', np.mean( predicted == y_test ))\n",
    "\n",
    "#SVM\n",
    "svm = SVC().fit(X_train, y_train)\n",
    "predicted = svm.predict(X_test)\n",
    "print('SVM', np.mean( predicted == y_test ))\n",
    "\n",
    "#ANN\n",
    "mlp = MLPClassifier(hidden_layer_sizes=(30,30,30)).fit(X_train,y_train)\n",
    "predictions = mlp.predict(X_test)\n",
    "print('ANN',np.mean( predictions == y_test ))\n"
   ]
  }
 ],
 "metadata": {
  "kernelspec": {
   "display_name": "Python 3",
   "language": "python",
   "name": "python3"
  },
  "language_info": {
   "codemirror_mode": {
    "name": "ipython",
    "version": 3
   },
   "file_extension": ".py",
   "mimetype": "text/x-python",
   "name": "python",
   "nbconvert_exporter": "python",
   "pygments_lexer": "ipython3",
   "version": "3.8.8"
  }
 },
 "nbformat": 4,
 "nbformat_minor": 5
}
